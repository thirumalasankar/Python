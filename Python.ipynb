{
 "cells": [
  {
   "cell_type": "code",
   "execution_count": 1,
   "metadata": {},
   "outputs": [
    {
     "name": "stdout",
     "output_type": "stream",
     "text": [
      "['hi', 'hello', 'sai', 1, 4, 3, 3]\n",
      "ias\n",
      "['heyyy!!', 'hello', 'sai', 1, 4, 3, 3]\n",
      "\n",
      "<class 'tuple'>\n",
      "1\n",
      "{0, 3, 4, 6, 9, -1}\n",
      "\n",
      "name sai\n",
      "rNo 1\n",
      "Marks 100\n",
      "\n",
      "name sunshine\n",
      "rNo 2\n",
      "Marks 98\n",
      "\n",
      "name shankar\n",
      "rNo 3\n",
      "Marks 96\n",
      "\n",
      "294\n",
      "{'st2': {'name': 'sunshine', 'rNo': 2, 'Marks': 98}}\n"
     ]
    }
   ],
   "source": [
    "#LISTS                                         #ordered/ changable(mutable)/ indexed/ allowsDuplicates\n",
    "li=[1, 2.34, [3, 4, 5], \"hi\", True]            #creating list using assigning\n",
    "li1=list((\"hi\", \"hello\", \"sai\", 1, 4, 3, 3))   #creating list using list constructor\n",
    "print(li1)                                     #allows duplicates// follows order\n",
    "print(li1[-5][::-1])\n",
    "li1[0]=\"heyyy!!\"                               #changable/mutable \n",
    "print(li1)\n",
    "print()\n",
    "\n",
    "\n",
    "#TUPLES                                       #ordered/ unchangable(immutable) /indexeded /allowsDuplicates\n",
    "tp=tuple((1, 2.3 , \"hiii\", False))\n",
    "print(type(tp))\n",
    "print(tp[0])\n",
    "\n",
    "\n",
    "#SETS                                          #unordered/ unchangable(mutable)/ unindexed/ doesn'tAllowsDuplicates\n",
    "st={1,2,2}                                    \n",
    "st1=set((3,4,6,9,0,-1))\n",
    "print(st1)\n",
    "print()\n",
    "\n",
    "\n",
    "#dictionaries                               #store data values in key:value pairs\n",
    "                                            #ordered/ changable(mutable val), unchangable(immutable keys)/ doesn'tAllowsDuplicates\n",
    "class1={                                    #creating dict\n",
    "    \"st1\":{\n",
    "      \"name\"  : \"sai\",\n",
    "      \"rNo\"   :  1,\n",
    "      \"Marks\" :  100\n",
    "        },\n",
    "    \"st2\":{\n",
    "      \"name\"  : \"sunshine\",\n",
    "      \"rNo\"   :  2,\n",
    "      \"Marks\" :  98\n",
    "        },\n",
    "    \"st3\":{\n",
    "      \"name\"  : \"shankar\",\n",
    "      \"rNo\"   :  3,\n",
    "      \"Marks\" :  96\n",
    "        }\n",
    "}  \n",
    "class1\n",
    "\"\"\"class1.keys()                 #for keys \n",
    "class1.values()                  #for vals\n",
    "class1.items()\"\"\"                #for key: val pairs\n",
    "sum,a,b=0,0,0\n",
    "for s,m in class1.items():\n",
    "    for i,j in m.items():\n",
    "        print(i, j)\n",
    "        if i==\"Marks\":\n",
    "            sum+=m[\"Marks\"]\n",
    "    print()\n",
    "print(sum)\n",
    "class1.pop(\"st1\",1)             #removes specific item\n",
    "class1.popitem()                #removes last item\n",
    "print(class1)"
   ]
  },
  {
   "cell_type": "markdown",
   "metadata": {},
   "source": [
    "1. Namespace and varible Scope\n",
    "\n",
    "    -- A namespace is a system that has a unique name for each and every object(varible or method) in Python.\n",
    "    -- think of namespace as searching for a student preethi in a class 2 students may have d same name preethi but their               surnames might b different like preethi sharma, preethi shetty\n",
    "    -- python maintains namespace in d form of dictionary.\n",
    "    -- Types\n",
    "          -> Build-in NameSpace -- print(),id()\n",
    "          -> Global NameSpace   -- when modules are created\n",
    "          -> Local NameSpace    -- creation of local fn's creates localNameSpace\n",
    "    -- A lifetime of a namespace depends upon the scope of objects, if the scope of an object ends, the lifetime of that                 namespace comes to an end. \n",
    "    \n",
    "    \n",
    "    \n",
    "2. LEGB RULE\n",
    "    1)Local     --   names defined inside the function\n",
    "    2)Enclosed  --   names defined inside an enclosed function(present in nested functions)\n",
    "    3)Global    --   names defined at d top level of d script or module\n",
    "    4)Build-in\n",
    "    \n",
    "    \n",
    "3. Closures     --   trying ot access the content of inner fns by returning the reference of inner fn to the outer fns.\n",
    "\n",
    "\n",
    "4. Decorators   -- It allows programmers to modify the behaviour of a function or class. Decorators allow us to wrap \n",
    "                   another function in order to extend the behaviour of the wrapped function, without permanently modifying it\n",
    " \n",
    " Types:--\n",
    "\n",
    "        -->@property:-\n",
    "           1) classmethod as attrtibute\n",
    "           2) replace setter and getter method property\n",
    "           \n",
    "        -->@classmethod\n",
    "        -->@staticmethod"
   ]
  },
  {
   "cell_type": "code",
   "execution_count": 13,
   "metadata": {},
   "outputs": [
    {
     "name": "stdout",
     "output_type": "stream",
     "text": [
      "before d fn ['A', 'B', 'In', 'Out', '_', '__', '___', '__builtin__', '__builtins__', '__doc__', '__loader__', '__name__', '__package__', '__spec__', '_dh', '_i', '_i1', '_i10', '_i11', '_i12', '_i13', '_i2', '_i3', '_i4', '_i5', '_i6', '_i7', '_i8', '_i9', '_ih', '_ii', '_iii', '_oh', 'exit', 'get_ipython', 'o1', 'obj', 'quit', 's1', 's2', 'student', 'studenta', 'studentb']\n",
      "43\n",
      "\n",
      "\n",
      "inside d fn ['a', 'b']\n",
      "\n",
      "\n",
      "after the fn ['A', 'B', 'In', 'Out', '_', '__', '___', '__builtin__', '__builtins__', '__doc__', '__loader__', '__name__', '__package__', '__spec__', '_dh', '_i', '_i1', '_i10', '_i11', '_i12', '_i13', '_i2', '_i3', '_i4', '_i5', '_i6', '_i7', '_i8', '_i9', '_ih', '_ii', '_iii', '_oh', 'exit', 'fb', 'get_ipython', 'o1', 'obj', 'quit', 's1', 's2', 'student', 'studenta', 'studentb']\n",
      "44\n"
     ]
    }
   ],
   "source": [
    "# namespace\n",
    "\n",
    "print(f\"before d fn {dir()}\")\n",
    "print(len(dir()))\n",
    "print(\"\\n\")\n",
    "\n",
    "def fb():\n",
    "    a=10\n",
    "    b=20\n",
    "    print(f\"inside d fn {dir()}\")\n",
    "    print(\"\\n\")\n",
    "fb()\n",
    "\n",
    "\n",
    "print(f\"after the fn {dir()}\")\n",
    "print(len(dir()))"
   ]
  },
  {
   "cell_type": "code",
   "execution_count": 24,
   "metadata": {},
   "outputs": [
    {
     "name": "stdout",
     "output_type": "stream",
     "text": [
      "inside method b=10 a=3\n",
      "d=11\n",
      "sm=100\n",
      "\n",
      "outside method a=1\n",
      "d=11\n"
     ]
    }
   ],
   "source": [
    "a=1\n",
    "d=11\n",
    "sm=99                                        #a,d,sm are global varibles\n",
    "def fn():\n",
    "    b=10\n",
    "    a=3\n",
    "    print(f\"inside method b={b} a={a}\")       #a=3 is printed bcoz it first the varible in local area and then global\n",
    "    print(f\"d={d}\")                           #d=11 is printted bcoz its not there in local but present in global level\n",
    "    global sm                                 \n",
    "    sm+=1    \n",
    "    print(f\"sm={sm}\")                         #sm=100 sm value is modified \n",
    "fn()\n",
    "print()\n",
    "print(f\"outside method a={a}\")\n",
    "#print(f\" ousode method b={b}\")               #gives error as b is local variable having local scope\n",
    "print(f\"d={d}\")"
   ]
  },
  {
   "cell_type": "code",
   "execution_count": 30,
   "metadata": {},
   "outputs": [
    {
     "name": "stdout",
     "output_type": "stream",
     "text": [
      "a=3\n"
     ]
    }
   ],
   "source": [
    "#LEGB RULE -- value is first searched in localScope-->EnclosedScope-->GLobalScope-->Build-inScope-->\n",
    "#if not found prints \"NameError\" else prints \"value\"\n",
    "\n",
    "a=1                         #globalScope\n",
    "def fn(): \n",
    "    a=2                     #enclosed\n",
    "    def innnerfn():\n",
    "        a=3                 #local\n",
    "        print(f\"a={a}\")\n",
    "    innnerfn()\n",
    "fn()"
   ]
  },
  {
   "cell_type": "code",
   "execution_count": 39,
   "metadata": {},
   "outputs": [
    {
     "name": "stdout",
     "output_type": "stream",
     "text": [
      "10\n",
      "<function func at 0x000002457BDFAAF0>\n",
      "func\n"
     ]
    }
   ],
   "source": [
    "def func():\n",
    "    x=10\n",
    "    print(x)\n",
    "func()\n",
    "print(func)             #gives the location of a fn\n",
    "print(func.__name__)    #gives the fn at that particular location or reference"
   ]
  },
  {
   "cell_type": "code",
   "execution_count": 61,
   "metadata": {},
   "outputs": [
    {
     "name": "stdout",
     "output_type": "stream",
     "text": [
      "im inner fn\n",
      "<function outerfn.<locals>.innerfn at 0x000002457BF029D0>\n",
      "innerfn\n"
     ]
    }
   ],
   "source": [
    "#closure -- trying ot access the content of inner fns by returning the reference of inner fn to the outer fns\n",
    "\"\"\"\n",
    "criteria to create closure\n",
    "\n",
    "1.nested fn\n",
    "2.nested fn must refer values in enclosed scope\n",
    "3.enclosed fn must return the nested fn  \"\"\"\n",
    "\n",
    "\n",
    "def outerfn():\n",
    "    x=\"im outer fn\"\n",
    "    def innerfn():\n",
    "        x=\"im inner fn\"\n",
    "        print(x)\n",
    "    return innerfn\n",
    "val=outerfn()\n",
    "val()\n",
    "print(val)\n",
    "print(val.__name__)"
   ]
  },
  {
   "cell_type": "code",
   "execution_count": 8,
   "metadata": {},
   "outputs": [
    {
     "name": "stdout",
     "output_type": "stream",
     "text": [
      "division by 0\n"
     ]
    }
   ],
   "source": [
    "#decorators:--\n",
    "     #-->  1. need to take a fn as parameter \n",
    "     #-->  2. Add functionality ot the function\n",
    "     #-->  3. Function need to return another function\n",
    "\n",
    "def divide_decorator(func):\n",
    "    def inner(x,y):\n",
    "        if y==0:\n",
    "            return \"division by 0\"\n",
    "        return func(x,y)\n",
    "    return inner\n",
    "\n",
    "@divide_decorator\n",
    "def divide(a,b):\n",
    "    return a/b\n",
    "print(divide(9,0))"
   ]
  },
  {
   "cell_type": "code",
   "execution_count": 21,
   "metadata": {},
   "outputs": [
    {
     "name": "stdout",
     "output_type": "stream",
     "text": [
      "even\n"
     ]
    }
   ],
   "source": [
    "def evenOdd(func):\n",
    "    def inner(x):\n",
    "        if x&1==0:\n",
    "            return \"even\"\n",
    "        else:\n",
    "            return \"odd\"\n",
    "        return func(x)\n",
    "    return inner\n",
    "\n",
    "@evenOdd\n",
    "def num(a):\n",
    "    return a\n",
    "print(num(4))"
   ]
  },
  {
   "cell_type": "code",
   "execution_count": 25,
   "metadata": {},
   "outputs": [
    {
     "name": "stdout",
     "output_type": "stream",
     "text": [
      "['HELLOWW', 'MUSICIANS']\n"
     ]
    }
   ],
   "source": [
    "#adding multiple decorators to a function\n",
    "\n",
    "def splitDecorator(func):\n",
    "    def innerFn():\n",
    "        s2=func()\n",
    "        return s2.split(\" \")\n",
    "    return innerFn\n",
    "def toUpperCaseDecorator(func):\n",
    "    def innerFn():\n",
    "        s1=func()\n",
    "        return s1.upper()\n",
    "    return innerFn\n",
    "\n",
    "\n",
    "@splitDecorator          #1st toUppercase executed then splitDecortor on a fn stringPrint\n",
    "@toUpperCaseDecorator     #adding decorator functionality to a fn\n",
    "def stringPrint():\n",
    "    return \"helloww musicians\"\n",
    "print(stringPrint())"
   ]
  },
  {
   "cell_type": "code",
   "execution_count": 26,
   "metadata": {},
   "outputs": [
    {
     "name": "stdout",
     "output_type": "stream",
     "text": [
      "GOOD MORNING\n"
     ]
    }
   ],
   "source": [
    "class Decorator:\n",
    "    def __init__(self,func):\n",
    "        self.func=func\n",
    "    def __call__(self):\n",
    "        s1=self.func()\n",
    "        return s1.upper()\n",
    "\n",
    "@Decorator\n",
    "def greet():\n",
    "    return \"good morning\"\n",
    "\n",
    "print(greet())"
   ]
  },
  {
   "cell_type": "code",
   "execution_count": 34,
   "metadata": {},
   "outputs": [
    {
     "name": "stdout",
     "output_type": "stream",
     "text": [
      "81.0\n"
     ]
    }
   ],
   "source": [
    "class division:\n",
    "    def __init__(self,func):\n",
    "        self.func=func\n",
    "    def __call__(self,*args,**kwargs):\n",
    "        if args[1]==0:\n",
    "            return (\"division by zero\")\n",
    "        else:\n",
    "            return self.func(*args,**kwargs)\n",
    "    \n",
    "    \n",
    "@division\n",
    "def divide(a,b):\n",
    "    return a/b\n",
    "\n",
    "print(divide(162,2))"
   ]
  },
  {
   "cell_type": "code",
   "execution_count": 46,
   "metadata": {},
   "outputs": [
    {
     "name": "stdout",
     "output_type": "stream",
     "text": [
      "shankar\n",
      "98\n"
     ]
    },
    {
     "data": {
      "text/plain": [
       "'shankar got marks 98'"
      ]
     },
     "execution_count": 46,
     "metadata": {},
     "output_type": "execute_result"
    }
   ],
   "source": [
    "#@propert Decortaor Example\n",
    "\n",
    "class student:\n",
    "    def __init__(self,name,marks):\n",
    "        self.name=name\n",
    "        self.marks=marks\n",
    "        \n",
    "    @property\n",
    "    def message(self):\n",
    "        return self.name+\" got marks \"+str(self.marks)\n",
    "\n",
    "st1=student(\"shankar\",99)\n",
    "st1.marks=98\n",
    "print(st1.name)\n",
    "print(st1.marks)\n",
    "\n",
    "st1.message     #here we r using mehtod as attrtibute using property decorator"
   ]
  },
  {
   "cell_type": "code",
   "execution_count": 9,
   "metadata": {},
   "outputs": [
    {
     "data": {
      "text/plain": [
       "3"
      ]
     },
     "execution_count": 9,
     "metadata": {},
     "output_type": "execute_result"
    }
   ],
   "source": [
    "# lambda parameters:expression\n",
    "# map(function/datatype,iterables)\n",
    "# map takes 2 augments:--\n",
    "        #1.function\n",
    "        #2.iterables:-list/set/dictionaries/tuples/arrays\n",
    "fn = lambda s,h:s+h\n",
    "fn(1,2)"
   ]
  },
  {
   "cell_type": "code",
   "execution_count": 12,
   "metadata": {},
   "outputs": [
    {
     "name": "stdout",
     "output_type": "stream",
     "text": [
      "add  [2, 3, 4, 5]\n",
      "0 1 2 3\n",
      "1 2 3 4\n",
      "1.0 2.0 3.0 4.0\n",
      "0 0 0 0\n",
      "1 2 3 4\n",
      "2 3 4 5\n",
      "0 1 2 3\n"
     ]
    }
   ],
   "source": [
    "a=[1,2,3,4]\n",
    "b=[1,1,1,1]\n",
    "add=list(map(lambda x,y:x+y,a,b))\n",
    "print(f\"add  {add}\")\n",
    "sub=list(map(lambda x,y:x-y,a,b))\n",
    "print(*sub)\n",
    "mul=list(map(lambda x,y:x*y,a,b))\n",
    "print(*mul)\n",
    "div=list(map(lambda x,y:x/y,a,b))\n",
    "print(*div)\n",
    "mod=list(map(lambda x,y:x%y,a,b))\n",
    "print(*mod)\n",
    "fdiv=list(map(lambda x,y:x//y,a,b))\n",
    "print(*fdiv)\n",
    "incr=list(map(lambda x:x+1,a))\n",
    "print(*incr)\n",
    "decr=list(map(lambda y:y-1,a))\n",
    "print(*decr)"
   ]
  },
  {
   "cell_type": "code",
   "execution_count": 26,
   "metadata": {},
   "outputs": [
    {
     "name": "stdout",
     "output_type": "stream",
     "text": [
      "2 34 46 8 10\n",
      "2 34 46 8 10\n",
      "2 34 46 8 10\n",
      "2 34 46 8 10\n"
     ]
    }
   ],
   "source": [
    "#printing even elemets using filter\n",
    "#filter gives the elements based on some condition\n",
    "#syntax filter(fn,iterable)\n",
    "\n",
    "list1=[1,2,34,46,8,9,10,23]\n",
    "even_Me1=list(filter(lambda x:x&1==0,list1))\n",
    "even_Me2=list(filter(lambda x:x%2==0,list1))\n",
    "even_Me3=list(filter(lambda x:x^1==x+1,list1))   #even xor 1 gives nextNumber  #2^1=3    #3^1=2\n",
    "even_Me4=list(filter(lambda x:x|1>x,list1))      #even or 1 gives nextNumber   #2|1=3    #3|1=3\n",
    "print(*even_Me1)\n",
    "print(*even_Me2)\n",
    "print(*even_Me3)\n",
    "print(*even_Me4)"
   ]
  },
  {
   "cell_type": "code",
   "execution_count": 34,
   "metadata": {},
   "outputs": [
    {
     "name": "stdout",
     "output_type": "stream",
     "text": [
      "8\n",
      "12\n"
     ]
    }
   ],
   "source": [
    "#better to use reduce fn(as it a inbuild method/less complexity) compared to a for loop \n",
    "# syntax     functools.reduce(fn,iterable)\n",
    "import functools\n",
    "list2=[1,3,4]\n",
    "sumOf=functools.reduce(lambda x,y:x+y,list2)\n",
    "print(sumOf)\n",
    "mulOf=functools.reduce(lambda x,y:x*y,list2)\n",
    "print(mulOf)"
   ]
  },
  {
   "cell_type": "code",
   "execution_count": 73,
   "metadata": {},
   "outputs": [
    {
     "name": "stdout",
     "output_type": "stream",
     "text": [
      "0\n",
      "1\n",
      "2\n",
      "3\n",
      "4\n",
      "5\n",
      "6\n",
      "7\n",
      "8\n",
      "9\n",
      "\n",
      "0\n",
      "1\n",
      "2\n"
     ]
    }
   ],
   "source": [
    "#generators:-- A generator-function is defined like a normal function,\n",
    "\"\"\"but whenever it needs to generate a value,\n",
    "it does so with the yield keyword rather than return.\"\"\"\n",
    "\n",
    "def fn(num):\n",
    "    c=0\n",
    "    while c<num:\n",
    "        yield c\n",
    "        c+=1\n",
    "x=fn(10)\n",
    "k=0\n",
    "while k!=10:\n",
    "    print(x.__next__())\n",
    "    k+=1\n",
    "print()\n",
    "\n",
    "\n",
    "for val in fn(3):\n",
    "    print(val)"
   ]
  },
  {
   "cell_type": "markdown",
   "metadata": {},
   "source": [
    "# oops\n",
    "# objected oriented programmming\n",
    "\n",
    "#class\n",
    "\n",
    "    --A blueprint of an object.\n",
    "    --it contains Data and methods.\n",
    "    --by using a single class we can create any number of objects.\n",
    "    --it is not a real world entity.\n",
    "    --Examples:--Animal,Student,employee.\n",
    "    \n",
    "#object\n",
    "\n",
    "    --An instance of a class.\n",
    "    --we pass data to a class as aurguments specific operation.\n",
    "    --It is real world entity.\n",
    "    --Examples:--Dog,names, and manymore.\n",
    "    \n",
    "#constructor\n",
    "\n",
    "    --Constructor is a special method used to create and initialize an object of a class.\n",
    "    --The constructor is executed automatically at the time of object creation.\n",
    "    --The __new__ is the method that creates the object, and __del__ method is called to destroy the object when the reference          count for that object becomes zero.\n",
    "    --Types of Constructors\n",
    "              \n",
    "          -- Default Constructor             \n",
    "                Python adds a default constructor when we do not include the constructor in the class or forget to declare it\n",
    "          -- Non-parametrized constructor    \n",
    "                def __init__(self):\n",
    "          -- Parameterized constructor       \n",
    "                def __init__(self,arg1,arg2,arg3,...,argn):\n",
    "          -- Constructor With Default Values\n",
    "                def __init__(self,arg1,arg2=value2,arg3=value3):\n",
    "     -- **Constructor is not a method and doesn’t return anything. it returns None\n",
    "     --Constructor overloading:- \n",
    "         It is a concept of having more than one constructor with a different parameters list in such a \n",
    "         way so that each constructor can perform different tasks. **(python doesn't support this)\n",
    "     --Constructor Chaining:--\n",
    "         Constructor chaining is the process of calling one constructor from another constructor.\n",
    "         Constructor chaining is useful when you want to invoke multiple constructors, one after another,\n",
    "         by initializing only one instance.\n",
    "     \n",
    "#Destructors\n",
    "    \n",
    "    --A destructor is called when an object is deleted or destroyed.\n",
    "    --Destructor is used to perform the clean-up activity before destroying the object, such as closing database connections or       filehandle.\n",
    "    --Python has a garbage collector that handles memory management automatically. For example, it cleans up the memory when an       object goes out of scope. \n",
    "    --destructor gets called 1) When an object goes out of scope or\n",
    "                             2) The reference counter of the object reaches 0.\n",
    "    -- def __del__(self):\n",
    "          __del__() Method: It is a reserved method. This method gets called as soon as all references to the object\n",
    "          have been deleted\n",
    "# Four principles of object-oriented programming --\n",
    "\n",
    "#1.inheritance\n",
    "\n",
    "    --Acquiring the properties of parent class(Base class) to its child class(Derived class) is known as Inheritance.\n",
    "    --RealWorldScenario-FamilyBloodRelations\n",
    "    --Types:--\n",
    "               --> Single Inheritance.\n",
    "               --> MultiLevel Inheritance.\n",
    "               --> Hierarchial Inheritance.\n",
    "               --> Multiple Inheritance. --> not supported in java, supported in python\n",
    "               --> Hybrid Inheritance.   --> not supported in java, supported in python\n",
    "    --Uses:--  CodeReusability\n",
    "    \n",
    "#2.polymorphism\n",
    "\n",
    "    --Poly means \"many\" and morphism means \"Forms\".\n",
    "    --method with same name performs with Different Functionalities and have different Parameters.\n",
    "    --Single Object appears in differt forms with different Functionalities.\n",
    "    --RealWorldScenario - A person may Performs differnt tasks in different situations.(Shankar is s/o of giridhar friend of         hema and co,bro of Dhrakshu and haritha,grandchild of sankarRao)\n",
    "    --Types:--\n",
    "              -->CompileTimePolymorphism (staticPolymorphism or MethodOverloading or EarlyBinding).\n",
    "                      -->methods or functions must have the same name and different signatures(parameters).\n",
    "                      -->Not support in python \n",
    "                      -->supported in java\n",
    "              -->RunTimePolymorphism (DynamicPolymorphism or MethodOverRiding or LateBinding).\n",
    "                      -->methods or functions must have the same name and same signatures.\n",
    "                      --> supported in both python and java.\n",
    "    --Uses:-- Code reuseablility.\n",
    "              Maintainability.\n",
    "              reduction in complexity.\n",
    "    \n",
    "#3.encapsulation\n",
    "\n",
    "    --The basic idea of Encapsulation is to wrap up both data and methods into one single unit.\n",
    "    --Private methods and Data are only accessable within the class.\n",
    "    --This puts restrictions on accessing variables and methods directly and can prevent the accidental \"modification of data\".\n",
    "    --To acheive encapsulation  :-->\n",
    "                #--> Make Varibles of class as private.\n",
    "                #--> Provide getter and setter methods to modify and view the varible values.\n",
    "    --RealWorldScenario - students can't able to modify the marks(Private int data) in their Website\n",
    "    --Uses:-- DataHiding, Security, Simplicity.\n",
    "    \n",
    "#4.abstraction\n",
    "\n",
    "    --Abstraction is used to hide internal details and show only functionalities.\n",
    "    --RealWorldScenario - A person driving the car dont need to know about the type of engine he only needs to know about                                  functional details\n",
    "                        - A person using the mobile dont need to know the core parts used he is only provided with functional                              details\n",
    "    --Uses:-- DataHiding"
   ]
  },
  {
   "cell_type": "markdown",
   "metadata": {},
   "source": [
    "#class varible \n",
    "               # --> If the value of a variable is not varied from object to object, such types of variables are called class                        variables or static variables.\n",
    "               # --> It is created when the program begins to execute.\n",
    "               # --> can be accessed to all objects of class.\n",
    "               # --> present inside class outside all methods.\n",
    "               # --> accessed using className.classVariable /\n",
    "               # -->              objectName.classVarible\n",
    "\n",
    "#InstanceVarible\n",
    "               # --> The value of a variable varies from object to object, then such variables are called instance variables.\n",
    "               # --> It is gets created when an instance of the class is created.\n",
    "               # --> For every object, a separate copy of the instance variable will be created. \n",
    "               # --> Instance variables are not shared by objects\n",
    "               # --> can be shared to particular objects.\n",
    "               # --> present inside instance method\n",
    "#decorators  \n",
    "               # --> @abstractmethod\n",
    "               # --> @abstractproperty\n",
    "               # --> @staticmethod\n",
    "               # --> @classmethod\n",
    "               # --> @property"
   ]
  },
  {
   "cell_type": "code",
   "execution_count": 15,
   "metadata": {},
   "outputs": [
    {
     "name": "stdout",
     "output_type": "stream",
     "text": [
      "1 hema 99 Rvr\n",
      "2 manas 100 Rvr\n"
     ]
    }
   ],
   "source": [
    "#class,object,constructor\n",
    "\n",
    "class student:\n",
    "    clg = \"Rvr\"\n",
    "    def __init__(self,sid,name):   #constructor\n",
    "        self.sid=sid\n",
    "        self.name=name\n",
    "    def marks(self,mark):    \n",
    "        self.mark = mark\n",
    "        print(f\"{self.sid} {self.name} {self.mark} {self.clg}\")\n",
    "s1 = student(1,\"hema\")  #creation of object\n",
    "s1.marks(99)\n",
    "s2 = student(2,\"manas\")\n",
    "s2.marks(100)"
   ]
  },
  {
   "cell_type": "code",
   "execution_count": 10,
   "metadata": {},
   "outputs": [
    {
     "name": "stdout",
     "output_type": "stream",
     "text": [
      "2 arguments constructor\n",
      "1 shankar\n",
      "2 arguments constructor\n",
      "2 superr cool\n"
     ]
    },
    {
     "ename": "TypeError",
     "evalue": "__init__() missing 1 required positional argument: 'ename'",
     "output_type": "error",
     "traceback": [
      "\u001b[1;31m---------------------------------------------------------------------------\u001b[0m",
      "\u001b[1;31mTypeError\u001b[0m                                 Traceback (most recent call last)",
      "\u001b[1;32m<ipython-input-10-7d04e30948f3>\u001b[0m in \u001b[0;36m<module>\u001b[1;34m\u001b[0m\n\u001b[0;32m     14\u001b[0m \u001b[0me1\u001b[0m\u001b[1;33m=\u001b[0m\u001b[0mEmployee\u001b[0m\u001b[1;33m(\u001b[0m\u001b[1;36m1\u001b[0m\u001b[1;33m,\u001b[0m\u001b[1;34m\"shankar\"\u001b[0m\u001b[1;33m)\u001b[0m\u001b[1;33m\u001b[0m\u001b[1;33m\u001b[0m\u001b[0m\n\u001b[0;32m     15\u001b[0m \u001b[0me2\u001b[0m\u001b[1;33m=\u001b[0m\u001b[0mEmployee\u001b[0m\u001b[1;33m(\u001b[0m\u001b[1;36m2\u001b[0m\u001b[1;33m,\u001b[0m\u001b[1;34m\"superr cool\"\u001b[0m\u001b[1;33m)\u001b[0m\u001b[1;33m\u001b[0m\u001b[1;33m\u001b[0m\u001b[0m\n\u001b[1;32m---> 16\u001b[1;33m \u001b[0me3\u001b[0m\u001b[1;33m=\u001b[0m\u001b[0mEmployee\u001b[0m\u001b[1;33m(\u001b[0m\u001b[1;36m3\u001b[0m\u001b[1;33m)\u001b[0m\u001b[1;33m\u001b[0m\u001b[1;33m\u001b[0m\u001b[0m\n\u001b[0m",
      "\u001b[1;31mTypeError\u001b[0m: __init__() missing 1 required positional argument: 'ename'"
     ]
    }
   ],
   "source": [
    "#constructor overloading-- python doesnt supports\n",
    "\"\"\"If we define multiple constructors then, \n",
    "the interpreter will considers only the last constructor and\n",
    "throws an error if the sequence of the arguments doesn’t match as per the last constructor.\"\"\"\n",
    "class Employee:\n",
    "    def __init__(self,eno):\n",
    "        self.eno=eno\n",
    "        print(\"1 arguments constructor\")\n",
    "    def __init__(self,eno,ename):\n",
    "        self.eno=eno\n",
    "        self.ename=ename\n",
    "        print(\"2 arguments constructor\")\n",
    "        print(f\"{self.eno} {self.ename}\")    \n",
    "e1=Employee(1,\"shankar\")\n",
    "e2=Employee(2,\"superr cool\")\n",
    "e3=Employee(3)     #gives an error"
   ]
  },
  {
   "cell_type": "code",
   "execution_count": 13,
   "metadata": {},
   "outputs": [
    {
     "name": "stdout",
     "output_type": "stream",
     "text": [
      "im grandParent constructor\n",
      "im parent construtor\n",
      "im child constructor\n"
     ]
    }
   ],
   "source": [
    "#constructor chaining \n",
    "#**super() method is used to invoke the parent class constructor from a child class.\n",
    "class grandParent:\n",
    "    def __init__(self,):\n",
    "        print(\"im grandParent constructor\")\n",
    "class parent(grandParent):\n",
    "    def __init__(self,):\n",
    "        super().__init__()              #invokes grandParent class construtor\n",
    "        print(\"im parent construtor\")   \n",
    "class child(parent):\n",
    "    def __init__(Self,):\n",
    "        super().__init__()              #invokes parent class constructor\n",
    "        print(\"im child constructor\")\n",
    "c1=child()"
   ]
  },
  {
   "cell_type": "code",
   "execution_count": 14,
   "metadata": {},
   "outputs": [
    {
     "name": "stdout",
     "output_type": "stream",
     "text": [
      "Inside Constructor\n",
      "Object initialized\n",
      "Hello, my name is shankar\n",
      "Inside destructor\n",
      "Object destroyed\n"
     ]
    }
   ],
   "source": [
    "class Student:\n",
    "    # constructor\n",
    "    def __init__(self, name):\n",
    "        print('Inside Constructor')\n",
    "        self.name = name\n",
    "        print('Object initialized')\n",
    "    def show(self):\n",
    "        print('Hello, my name is', self.name)\n",
    "    # destructor\n",
    "    def __del__(self):\n",
    "        print('Inside destructor')\n",
    "        print('Object destroyed')\n",
    "# create object\n",
    "s1 = Student('shankar')\n",
    "s1.show()\n",
    "# delete object\n",
    "del s1"
   ]
  },
  {
   "cell_type": "code",
   "execution_count": 40,
   "metadata": {},
   "outputs": [
    {
     "name": "stdout",
     "output_type": "stream",
     "text": [
      "im child\n",
      "strong\n",
      "she can read\n",
      "eating daily\n"
     ]
    }
   ],
   "source": [
    "#inheritance\n",
    "#single level\n",
    "class Hema:\n",
    "    looks=\"cute\"\n",
    "    height=5.0\n",
    "    haircolor=\"black\"\n",
    "    def read(self):\n",
    "        print(\"she can read\")\n",
    "    def eat(self):\n",
    "        print(\"eating daily\")\n",
    "class chitti(Hema):\n",
    "    def __init__(self):\n",
    "        self.character=\"strong\"\n",
    "        print(self.character)\n",
    "    print(\"im child\")\n",
    "obj = chitti()\n",
    "obj.read()\n",
    "obj.eat()"
   ]
  },
  {
   "cell_type": "code",
   "execution_count": 54,
   "metadata": {},
   "outputs": [
    {
     "name": "stdout",
     "output_type": "stream",
     "text": [
      "the addition is 3\n",
      "the mul is 2\n"
     ]
    }
   ],
   "source": [
    "#MUltilevel inheritance\n",
    "\n",
    "class A:\n",
    "    def __init__(self,a,b):\n",
    "        self.a=a\n",
    "        self.b=b\n",
    "    def add(self):\n",
    "        return (self.a+self.b)\n",
    "class B(A):\n",
    "    def mul(self):\n",
    "        return (self.a*self.b)\n",
    "class calci(B):\n",
    "    pass\n",
    "obj=calci(1,2)\n",
    "print(f\"the addition is {obj.add()}\")\n",
    "print(f\"the mul is {obj.mul()}\")"
   ]
  },
  {
   "cell_type": "code",
   "execution_count": 60,
   "metadata": {},
   "outputs": [
    {
     "name": "stdout",
     "output_type": "stream",
     "text": [
      "haaiiiiii\n",
      "im father class\n",
      "im mother\n",
      "im child\n"
     ]
    }
   ],
   "source": [
    "#multiple inheritance\n",
    "class father:\n",
    "    def __init__(self):\n",
    "        print(\"haaiiiiii\")\n",
    "    def fname(self):\n",
    "        print(\"im father class\")\n",
    "class mother:\n",
    "    def mname(self):\n",
    "        print(\"im mother\")\n",
    "class child(father,mother):\n",
    "    def cname(self):\n",
    "        print(\"im child\")\n",
    "obj=child()\n",
    "obj.fname()\n",
    "obj.mname()\n",
    "obj.cname()"
   ]
  },
  {
   "cell_type": "code",
   "execution_count": 77,
   "metadata": {},
   "outputs": [
    {
     "name": "stdout",
     "output_type": "stream",
     "text": [
      "add 2  is in 2nd method\n",
      "3\n"
     ]
    }
   ],
   "source": [
    "#compiletimepolymorphsim--same method name with different parameters\n",
    "#is not supported in python last method will execute or last method will override the earlier\n",
    "class calci:\n",
    "    c=10\n",
    "    def __init__(self,a,b):\n",
    "        self.a=a\n",
    "        self.b=b\n",
    "    def add(self):\n",
    "        print(\"add 1\")\n",
    "    def add(self):\n",
    "        print(\"add 2  is in 2nd method\")\n",
    "        print(self.a+self.b)\n",
    "obj = calci(1,2)\n",
    "obj.add()"
   ]
  },
  {
   "cell_type": "code",
   "execution_count": 3,
   "metadata": {},
   "outputs": [
    {
     "ename": "TypeError",
     "evalue": "details() missing 1 required positional argument: 'marks'",
     "output_type": "error",
     "traceback": [
      "\u001b[1;31m---------------------------------------------------------------------------\u001b[0m",
      "\u001b[1;31mTypeError\u001b[0m                                 Traceback (most recent call last)",
      "\u001b[1;32m<ipython-input-3-46afcf0cba5e>\u001b[0m in \u001b[0;36m<module>\u001b[1;34m\u001b[0m\n\u001b[0;32m      9\u001b[0m         \u001b[0mprint\u001b[0m\u001b[1;33m(\u001b[0m\u001b[1;34m\"m2\"\u001b[0m\u001b[1;33m)\u001b[0m\u001b[1;33m\u001b[0m\u001b[1;33m\u001b[0m\u001b[0m\n\u001b[0;32m     10\u001b[0m \u001b[0ms1\u001b[0m\u001b[1;33m=\u001b[0m\u001b[0mstudent\u001b[0m\u001b[1;33m(\u001b[0m\u001b[1;33m)\u001b[0m\u001b[1;33m\u001b[0m\u001b[1;33m\u001b[0m\u001b[0m\n\u001b[1;32m---> 11\u001b[1;33m \u001b[0ms1\u001b[0m\u001b[1;33m.\u001b[0m\u001b[0mdetails\u001b[0m\u001b[1;33m(\u001b[0m\u001b[1;34m\"shankatr\"\u001b[0m\u001b[1;33m)\u001b[0m\u001b[1;33m\u001b[0m\u001b[1;33m\u001b[0m\u001b[0m\n\u001b[0m",
      "\u001b[1;31mTypeError\u001b[0m: details() missing 1 required positional argument: 'marks'"
     ]
    }
   ],
   "source": [
    "class student:\n",
    "    def details(self,name):\n",
    "        self.name=name\n",
    "        print(self.name)\n",
    "        print(\"m1\")\n",
    "    def details(self,age,marks):\n",
    "        self.age=age\n",
    "        print(f\" {self.age} {self.marks}\")\n",
    "        print(\"m2\")\n",
    "s1=student()\n",
    "s1.details(\"shankar\")"
   ]
  },
  {
   "cell_type": "code",
   "execution_count": 22,
   "metadata": {},
   "outputs": [
    {
     "name": "stdout",
     "output_type": "stream",
     "text": [
      "im method in class calciA\n",
      "120\n",
      "im method in class calciB\n",
      "120\n"
     ]
    }
   ],
   "source": [
    "#method overriding--same method name with *same no. of parameters*\n",
    "class calciA:\n",
    "    def __init__(self,a):\n",
    "        self.a=a\n",
    "    def fact(self):\n",
    "        self.re=1\n",
    "        for i in range(1,self.a+1,1):\n",
    "            self.re*=i\n",
    "        print(\"im method in class calciA\")\n",
    "        print(self.re)\n",
    "class calciB(calciA):\n",
    "    def fact(self):\n",
    "        super().fact()\n",
    "        self.res=1\n",
    "        for i in range(1,self.a+1,1):\n",
    "            self.res*=i\n",
    "        print(\"im method in class calciB\")\n",
    "        print(self.res)\n",
    "obj = calciB(5)\n",
    "obj.fact()"
   ]
  },
  {
   "cell_type": "code",
   "execution_count": 11,
   "metadata": {},
   "outputs": [
    {
     "name": "stdout",
     "output_type": "stream",
     "text": [
      "8\n",
      "6\n"
     ]
    }
   ],
   "source": [
    "class A:\n",
    "    def add(self,a,b,c):\n",
    "        print(a+b+c)\n",
    "class B(A):\n",
    "    def add(self,a,b,c):\n",
    "        print(a*b*c)\n",
    "obj=B()\n",
    "obj.add(2,2,2)\n",
    "o1=A()\n",
    "o1.add(2,2,2)"
   ]
  },
  {
   "cell_type": "code",
   "execution_count": 38,
   "metadata": {},
   "outputs": [
    {
     "name": "stdout",
     "output_type": "stream",
     "text": [
      "1 99 95 83gg8f\n",
      "1\n",
      "99\n",
      "95\n"
     ]
    }
   ],
   "source": [
    "#encapsulation\n",
    "class teacher:\n",
    "    def __init__(self,sid,smarks,satt,spwd):\n",
    "        self._sid=sid                #protected variable\n",
    "        self._smarks=smarks          \n",
    "        self._satt=satt\n",
    "        self.__spwd=spwd             #private variable\n",
    "    def display(self):\n",
    "        print(f\"{self._sid} {self._smarks} {self._satt} {self.__spwd}\")\n",
    "class student(teacher):\n",
    "    def show(self):\n",
    "        print(self._sid)\n",
    "        print(self._smarks)\n",
    "        print(self._satt)\n",
    "        #print(self.__spwd)\n",
    "s1 = student(1,99,95,\"83gg8f\")\n",
    "s1.display()\n",
    "s1.show()"
   ]
  },
  {
   "cell_type": "code",
   "execution_count": 9,
   "metadata": {},
   "outputs": [
    {
     "data": {
      "text/plain": [
       "'hema 002 78  89%'"
      ]
     },
     "execution_count": 9,
     "metadata": {},
     "output_type": "execute_result"
    }
   ],
   "source": [
    "#encapsulation :--\n",
    "  #--> Make Varibles of class as private>\n",
    "  #--> Provide getter and setter methods to modify and view the varible values.\n",
    "class student:\n",
    "    def __init__(self,name,sid,marks,attendance):\n",
    "        self.name=name                     # Public ---> we can modify even outside the class\n",
    "        self.sid=sid                       # public\n",
    "        self.__marks=marks                 # private variable --> cant modify outside the class\n",
    "        self.__attendance=attendance       # priavte\n",
    "    def getStudentdetails(self):\n",
    "        return (f\"{self.name} {self.sid} {self.__marks}  {self.__attendance}\")\n",
    "    def setStudentdetails(self,marks,attendance):\n",
    "        self.__marks=marks\n",
    "        self.__attendance=attendance\n",
    "s1=student(\"shankar\",\"054\",95,\"96%\")\n",
    "s1.name=\"hema\"     \n",
    "s1.sid=\"002\"\n",
    "s1.__marks=\"87\"                            # cant generate any error but pricate variable is not modified   \n",
    "s1.getStudentdetails()                     #'hema 002 95  96%'\n",
    "s1.setStudentdetails(78,\"89%\")             \n",
    "s1.getStudentdetails()                     #'hema 002 78  89%'"
   ]
  },
  {
   "cell_type": "code",
   "execution_count": 1,
   "metadata": {},
   "outputs": [
    {
     "name": "stdout",
     "output_type": "stream",
     "text": [
      "I have 3 sides\n",
      "I have 4 sides\n",
      "I have 5 sides\n",
      "I have 6 sides\n"
     ]
    },
    {
     "ename": "TypeError",
     "evalue": "Can't instantiate abstract class Polygon with abstract methods noofsides",
     "output_type": "error",
     "traceback": [
      "\u001b[1;31m---------------------------------------------------------------------------\u001b[0m",
      "\u001b[1;31mTypeError\u001b[0m                                 Traceback (most recent call last)",
      "\u001b[1;32m<ipython-input-1-d1caa8f2fd58>\u001b[0m in \u001b[0;36m<module>\u001b[1;34m\u001b[0m\n\u001b[0;32m     48\u001b[0m \u001b[0mK\u001b[0m \u001b[1;33m=\u001b[0m \u001b[0mHexagon\u001b[0m\u001b[1;33m(\u001b[0m\u001b[1;33m)\u001b[0m\u001b[1;33m\u001b[0m\u001b[1;33m\u001b[0m\u001b[0m\n\u001b[0;32m     49\u001b[0m \u001b[0mK\u001b[0m\u001b[1;33m.\u001b[0m\u001b[0mnoofsides\u001b[0m\u001b[1;33m(\u001b[0m\u001b[1;33m)\u001b[0m\u001b[1;33m\u001b[0m\u001b[1;33m\u001b[0m\u001b[0m\n\u001b[1;32m---> 50\u001b[1;33m \u001b[0mpy\u001b[0m\u001b[1;33m=\u001b[0m\u001b[0mPolygon\u001b[0m\u001b[1;33m(\u001b[0m\u001b[1;33m)\u001b[0m\u001b[1;33m\u001b[0m\u001b[1;33m\u001b[0m\u001b[0m\n\u001b[0m\u001b[0;32m     51\u001b[0m \u001b[0mpy\u001b[0m\u001b[1;33m.\u001b[0m\u001b[0mnoofsides\u001b[0m\u001b[1;33m(\u001b[0m\u001b[1;33m)\u001b[0m\u001b[1;33m\u001b[0m\u001b[1;33m\u001b[0m\u001b[0m\n",
      "\u001b[1;31mTypeError\u001b[0m: Can't instantiate abstract class Polygon with abstract methods noofsides"
     ]
    }
   ],
   "source": [
    "#Abstraction\n",
    "# abstract method: --> have declaration but not defination(body)\n",
    "                 # --> python doesnot support abstract classes we can use abc(abstract base class) module.\n",
    "                 # --> we cant create object for abstract class\n",
    "\n",
    "from abc import ABC, abstractmethod\n",
    "\n",
    "class Polygon(ABC):\n",
    "\n",
    "\t@abstractmethod\n",
    "\tdef noofsides(self):\n",
    "\t\tpass\n",
    "\n",
    "class Triangle(Polygon):\n",
    "\n",
    "\t# overriding abstract method\n",
    "\tdef noofsides(self):\n",
    "\t\tprint(\"I have 3 sides\")\n",
    "\n",
    "class Pentagon(Polygon):\n",
    "\n",
    "\t# overriding abstract method\n",
    "\tdef noofsides(self):\n",
    "\t\tprint(\"I have 5 sides\")\n",
    "\n",
    "class Hexagon(Polygon):\n",
    "\n",
    "\t# overriding abstract method\n",
    "\tdef noofsides(self):\n",
    "\t\tprint(\"I have 6 sides\")\n",
    "\n",
    "class Quadrilateral(Polygon):\n",
    "\n",
    "\t# overriding abstract method\n",
    "\tdef noofsides(self):\n",
    "\t\tprint(\"I have 4 sides\")\n",
    "\n",
    "# Driver code\n",
    "R = Triangle()\n",
    "R.noofsides()\n",
    "\n",
    "K = Quadrilateral()\n",
    "K.noofsides()\n",
    "\n",
    "R = Pentagon()\n",
    "R.noofsides()\n",
    "\n",
    "K = Hexagon()\n",
    "K.noofsides()\n",
    "py=Polygon()\n",
    "py.noofsides()"
   ]
  },
  {
   "cell_type": "code",
   "execution_count": 31,
   "metadata": {},
   "outputs": [
    {
     "name": "stdout",
     "output_type": "stream",
     "text": [
      "rectangle 4 sides\n",
      "square 4 sides\n",
      "the area of rectangle is 20\n",
      "the area of square is 16\n"
     ]
    }
   ],
   "source": [
    "from abc import ABC,abstractmethod\n",
    "class parallelogram(ABC):\n",
    "    def __init__(self,side,length,breadth):\n",
    "        self.side=side\n",
    "        self.length=length\n",
    "        self.breadth=breadth\n",
    "    @abstractmethod\n",
    "    def getNumberofSides(self):\n",
    "        pass\n",
    "    @abstractmethod\n",
    "    def getArea(self):\n",
    "        pass\n",
    "class square(parallelogram):\n",
    "    def getNumberofSides(self):\n",
    "        print(\"square 4 sides\")\n",
    "    def getArea(self):\n",
    "        print(f\"the area of square is {self.side*self.side}\")\n",
    "class rectangle(square):\n",
    "    def getNumberofSides(self):\n",
    "        print(\"rectangle 4 sides\")\n",
    "        super().getNumberofSides()\n",
    "    def getArea(self):\n",
    "        print(f\"the area of rectangle is {self.length*self.breadth}\")\n",
    "        super().getArea()\n",
    "r1=rectangle(4,4,5)\n",
    "r1.getNumberofSides()\n",
    "r1.getArea()"
   ]
  },
  {
   "cell_type": "code",
   "execution_count": 39,
   "metadata": {},
   "outputs": [
    {
     "name": "stdout",
     "output_type": "stream",
     "text": [
      "method 1\n",
      "method 2\n",
      "method 3\n",
      "\n",
      "method 1\n",
      "method 2\n",
      "method 3\n"
     ]
    }
   ],
   "source": [
    "#method chaining \n",
    "class c1:\n",
    "    def m1(slef):\n",
    "        print(\"method 1\")\n",
    "        return slef             #returns instance of the class (i.e) object\n",
    "    def m2(slef):\n",
    "        print(\"method 2\")\n",
    "        return slef             #returns instance of the class (i.e) object\n",
    "    def m3(slef):\n",
    "        print(\"method 3\")\n",
    "obj = c1()\n",
    "obj.m1()\n",
    "obj.m2()\n",
    "obj.m3()\n",
    "print()\n",
    "obj.m1().m2().m3()            #obj.m1() -->method1,obj then obj.m2 -->method2,obj then obj.m3 --> method3"
   ]
  },
  {
   "cell_type": "code",
   "execution_count": 45,
   "metadata": {},
   "outputs": [
    {
     "name": "stdout",
     "output_type": "stream",
     "text": [
      "this is instance method\n",
      "this is class method \n",
      "this is class method \n",
      "20\n",
      "this is static method\n"
     ]
    }
   ],
   "source": [
    "#instance / class / static \n",
    "\n",
    "class demo:\n",
    "    a=19\n",
    "    def m1(self):\n",
    "        print(\"this is instance method\")\n",
    "    @classmethod\n",
    "    def m2(cls):\n",
    "        print(\"this is class method \")\n",
    "    @staticmethod\n",
    "    def m3():\n",
    "        a=10\n",
    "        print(\"this is static method\")\n",
    "obj = demo()\n",
    "obj.m1()\n",
    "#demo.m1()  #--> gives error \n",
    "obj.m2()\n",
    "demo.m2()\n",
    "demo.a=20\n",
    "print(obj.a)\n",
    "obj.m3()"
   ]
  },
  {
   "cell_type": "code",
   "execution_count": 44,
   "metadata": {},
   "outputs": [
    {
     "name": "stdout",
     "output_type": "stream",
     "text": [
      " rvrAndjc | 1 | sai   | 99\n",
      "Pass\n",
      " rvrAndjc | 2 | thiru | 98\n",
      "Pass\n",
      " rvrAndjc | 3 | hema  | 97\n",
      "Pass\n",
      " rvrAndjc | 4 | akhil | 89\n",
      "Pass\n",
      " rvrAndjc | 5 | abc | 34\n",
      "Fail\n",
      "5\n",
      "5\n",
      "this is static method\n",
      "None\n"
     ]
    }
   ],
   "source": [
    "#static / class / instance methods example\n",
    "class student:\n",
    "    clg=\"rvrAndjc\" \n",
    "    counter=0\n",
    "    def __init__(self,sid,name,marks):\n",
    "        self.sid=sid\n",
    "        self.name=name\n",
    "        self.marks=marks\n",
    "        student.counter+=1\n",
    "    def details(self):\n",
    "        print(f\" {self.clg} | {self.sid} | {self.name} | {self.marks}\")\n",
    "        print(student.get_grade(self.name,self.marks))\n",
    "    @classmethod\n",
    "    def student_count(cls):\n",
    "        return cls.counter\n",
    "    @classmethod\n",
    "    def get_grade(cls,name,marks):\n",
    "        if marks>=35:\n",
    "            return (\"Pass\")\n",
    "        else:\n",
    "            return (\"Fail\")\n",
    "    @staticmethod\n",
    "    def sMethod():\n",
    "        print(\"this is static method\")\n",
    "s1=student(\"1\",\"sai  \",99)\n",
    "s1.details()\n",
    "#print(student.get_grade(\"sai\",99))\n",
    "s2=student(\"2\",\"thiru\",98)\n",
    "s2.details()\n",
    "s3=student(\"3\",\"hema \",97)\n",
    "s3.details()\n",
    "s4=student(\"4\",\"akhil\",89)\n",
    "s4.details()\n",
    "s5=student(\"5\",\"abc\",34)\n",
    "s5.details()\n",
    "print(student.student_count())     #called using class name\n",
    "print(s1.student_count())          #called using object name\n",
    "print(student.sMethod())"
   ]
  }
 ],
 "metadata": {
  "kernelspec": {
   "display_name": "Python 3",
   "language": "python",
   "name": "python3"
  },
  "language_info": {
   "codemirror_mode": {
    "name": "ipython",
    "version": 3
   },
   "file_extension": ".py",
   "mimetype": "text/x-python",
   "name": "python",
   "nbconvert_exporter": "python",
   "pygments_lexer": "ipython3",
   "version": "3.8.3"
  }
 },
 "nbformat": 4,
 "nbformat_minor": 4
}
